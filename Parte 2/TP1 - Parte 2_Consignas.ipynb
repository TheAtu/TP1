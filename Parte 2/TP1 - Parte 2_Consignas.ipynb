{
 "cells": [
  {
   "cell_type": "markdown",
   "metadata": {
    "collapsed": true,
    "id": "Dh8MkXaG-c9Y"
   },
   "source": [
    "# Curso de Big Data\n",
    "\n",
    "## Trabajo Práctico 1 - Parte 2"
   ]
  },
  {
   "cell_type": "markdown",
   "metadata": {
    "id": "RhBlm6mZ-c9e"
   },
   "source": [
    "### Reglas de formato y presentación\n",
    "- El trabajo debe estar bien comentado (utilizando #) para que el código sea fácil de entender por sus compañeros y profesores.\n",
    "\n",
    "- El mismo debe ser completado en este Jupyter Notebook y entregado como tal, es decir en un archivo .ipynb\n"
   ]
  },
  {
   "cell_type": "markdown",
   "metadata": {
    "id": "ZEjGaa4U-c9g"
   },
   "source": [
    "### Fecha de entrega:\n",
    "Miércoles 4 de octubre a las 23:59hs"
   ]
  },
  {
   "cell_type": "markdown",
   "metadata": {
    "id": "N9TU2y7E-c9h"
   },
   "source": [
    "### Modalidad de entrega\n",
    "- Al finalizar el trabajo práctico deben hacer un último <i>commit</i> en su repositorio de GitHub con el mensaje “Entrega final del tp”. \n",
    "- Asegurense de haber creado una carpeta llamada TP1. Este Jupyter Notebook y el correspondiente al TP1 - Parte 1 deben estar dentro de esa carpeta.\n",
    "- También deben completar el link de su repositorio -para que pueda ser clonado y corregido- en la siguiente google sheet: https://docs.google.com/spreadsheets/d/11nJY1Frgla45sTgsPiSeOZM9iBM-XRWh/edit?usp=sharing&ouid=105815768529474116534&rtpof=true&sd=true\n",
    "- La última versión en el repositorio es la que será evaluada. Por lo que es importante que: \n",
    "    - No completen la google sheet hasta no haber terminado y estar seguros de que han hecho el <i>commit y push</i> a la versión final que quieren entregar. Debido a que se pueden tomar hasta 3 días de extensión a lo largo del curso, no se  corregirán sus tareas hasta no ver el link en la google sheet.\n",
    "    - No hagan nuevos <i>push</i> despues de haber entregado su versión final. Esto generaría confusión acerca de que versión es la que quieren que se les corrija. "
   ]
  },
  {
   "cell_type": "code",
   "execution_count": null,
   "metadata": {},
   "outputs": [],
   "source": [
    "#If not installed should run to install:\n",
    "!pip3 install requests\n",
    "!pip3 install pandas\n",
    "!pip3 install matplotlib"
   ]
  },
  {
   "cell_type": "code",
   "execution_count": 25,
   "metadata": {},
   "outputs": [],
   "source": [
    "import requests  # Importa la biblioteca para realizar solicitudes HTTP.\n",
    "import pandas as pd  # Importa la biblioteca Pandas para el manejo de datos.\n",
    "import matplotlib.pyplot as plt  # Importa parcialmente la biblioteca Matplotlib para visualización de datos.\n",
    "\n",
    "# A partir de este punto, puedes usar las funciones y clases de las bibliotecas importadas.\n"
   ]
  },
  {
   "cell_type": "markdown",
   "metadata": {
    "id": "ZXbrPraa-c9i"
   },
   "source": [
    "#### Ejercicio 1\n",
    "Usando la API de Mercado Libre, obtener los ítems de una consulta de búsqueda. Pueden buscar cualquier producto de su interés."
   ]
  },
  {
   "cell_type": "code",
   "execution_count": 30,
   "metadata": {},
   "outputs": [],
   "source": [
    "# Definir el término de búsqueda.\n",
    "busqueda = 'salsa de soja'  \n",
    "\n",
    "# Realizar la consulta de búsqueda\n",
    "url = 'https://api.mercadolibre.com/sites/MLA/search?q='+busqueda  # Construye la URL de búsqueda\n",
    "response = requests.get(url)  # Hace la consulta GET y guarda la respuesta.\n",
    "\n",
    "# Parsear la respuesta JSON y obtiene los resultados de la búsqueda\n",
    "items = response.json()['results']\n",
    "\n",
    "#Crea la listas correspondientes:\n",
    "titles = [item['title'] for item in items]  # Para títulos para cada producto\n",
    "prices = [item['price'] for item in items]  # Para precios para cada producto\n",
    "permalinks = [item['permalink'] for item in items]  # Para enlaces permanentes para cada producto"
   ]
  },
  {
   "cell_type": "markdown",
   "metadata": {},
   "source": [
    "#### Ejercicio 2\n",
    "Guarden los precios de los ítems obtenidos en un dataframe y calculen el precio promedio, el mínimo y el máximo. "
   ]
  },
  {
   "cell_type": "code",
   "execution_count": 27,
   "metadata": {},
   "outputs": [
    {
     "name": "stdout",
     "output_type": "stream",
     "text": [
      "El precio promedio es $4619.94\n",
      "El precio mínimo es $647.1\n",
      "El precio máximo es $12430.0\n"
     ]
    }
   ],
   "source": [
    "# Crear el dataframe \n",
    "# (incluimos adicionalmente el 'link' y 'titulos' para verificar que la busqueda tenga sentido)\n",
    "df = pd.DataFrame({'Title':titles,'Price': prices,'Link':permalinks})\n",
    "df.to_csv('search_results.csv') #[Extra] Guardar los resultados en un archivo .csv\n",
    "\n",
    "# Calcular el precio promedio, el mínimo y el máximo\n",
    "average_price = df['Price'].mean()\n",
    "min_price = df['Price'].min()\n",
    "max_price = df['Price'].max()\n",
    "\n",
    "# Imprimir los resultados\n",
    "print(f'El precio promedio es ${round(average_price,2)}')\n",
    "print(f'El precio mínimo es ${min_price}')\n",
    "print(f'El precio máximo es ${max_price}')"
   ]
  },
  {
   "cell_type": "code",
   "execution_count": null,
   "metadata": {},
   "outputs": [],
   "source": [
    "# Crear el DataFrame con títulos, precios y enlaces\n",
    "# (incluimos adicionalmente el 'link' y 'titulos' para verificar que la busqueda tenga sentido)\n",
    "df = pd.DataFrame({'Title': titles, 'Price': prices, 'Link': permalinks})\n",
    "\n",
    "#[Extra] Guardar los resultados en un archivo .csv\n",
    "df.to_csv('search_results.csv')\n",
    "\n",
    "# Calcular estadísticas de precios\n",
    "average_price = df['Price'].mean()  # Precio promedio\n",
    "min_price = df['Price'].min()        # Precio mínimo\n",
    "max_price = df['Price'].max()        # Precio máximo\n",
    "\n",
    "# Imprimir los resultados\n",
    "print(f'Promedio: ${round(average_price, 2)}') #redondeamos a los decimales utiles\n",
    "print(f'Mínimo: ${min_price}')\n",
    "print(f'Máximo: ${max_price}')\n"
   ]
  },
  {
   "cell_type": "markdown",
   "metadata": {},
   "source": [
    "#### Ejercicio 3\n",
    "Armen un histograma de los precios. ¿Ven algún <i>outlier<i>? \n",
    "Nota: pueden usar la librería de Matplotlib o la de Pandas."
   ]
  },
  {
   "cell_type": "code",
   "execution_count": 32,
   "metadata": {},
   "outputs": [
    {
     "data": {
      "image/png": "[encoded data removed]",
      "text/plain": [
       "<Figure size 640x480 with 1 Axes>"
      ]
     },
     "metadata": {},
     "output_type": "display_data"
    }
   ],
   "source": [
    "df.hist(column='Price', bins=15) #15 intervalos dpara el histograma\n",
    "plt.xlabel('Price') #subtitulo eje X\n",
    "plt.ylabel('Frequency') #subtitulo eje Y\n",
    "plt.title(f'Price Distribution of \"{busqueda.title()}\"') #Construimos el titulo a partir de la busqueda realizada\n",
    "plt.savefig(f'Busqueda - {busqueda}.png', format='png') #guardamos el histograma bajo el parametro de busqueda\n",
    "plt.show() # Mostrar el gráfico"
   ]
  }
 ],
 "metadata": {
  "anaconda-cloud": {},
  "colab": {
   "name": "TP1 - Parte 1.ipynb",
   "provenance": []
  },
  "kernelspec": {
   "display_name": "Python 3.9.0rc1 64-bit",
   "language": "python",
   "name": "python3"
  },
  "language_info": {
   "codemirror_mode": {
    "name": "ipython",
    "version": 3
   },
   "file_extension": ".py",
   "mimetype": "text/x-python",
   "name": "python",
   "nbconvert_exporter": "python",
   "pygments_lexer": "ipython3",
   "version": "3.9.0rc1"
  },
  "vscode": {
   "interpreter": {
    "hash": "aee8b7b246df8f9039afb4144a1f6fd8d2ca17a180786b69acc140d282b71a49"
   }
  }
 },
 "nbformat": 4,
 "nbformat_minor": 1
}
